{
 "cells": [
  {
   "cell_type": "code",
   "execution_count": 17,
   "metadata": {},
   "outputs": [],
   "source": [
    "import math\n",
    "\n",
    "# range (-180, 180)\n",
    "def calculate_tangent(opposite, adjacent):\n",
    "    if adjacent == 0:\n",
    "        if opposite == 0:\n",
    "            return 0\n",
    "        if opposite < 0:\n",
    "            return -90\n",
    "        else:\n",
    "            return 90\n",
    "    if opposite == 0:\n",
    "        if adjacent < 0:\n",
    "            return 180\n",
    "        else:\n",
    "            return 0\n",
    "    # at +opposite +adjacent\n",
    "    theta = math.degrees(math.atan(abs(opposite)/abs(adjacent)))\n",
    "    if opposite < 0:\n",
    "        #  at -opposite -adjacent\n",
    "        if adjacent < 0:\n",
    "            theta = -180 + theta\n",
    "        # at -opposite +adjacent\n",
    "        else:\n",
    "            theta = -theta\n",
    "    else:\n",
    "        # +opposite -adjacent\n",
    "        if adjacent < 0:\n",
    "            theta = 180 - theta\n",
    "    return theta\n",
    "\n",
    "def calculate_euclidean_distance(l):\n",
    "    return (sum([i**2 for i in l]))**0.5\n",
    "\n",
    "\n",
    "def calculate_y_tangent(vector):\n",
    "    d = calculate_euclidean_distance([vector[0], vector[2]])\n",
    "    y = vector[1]\n",
    "    theta = math.degrees(math.atan(abs(y)/abs(d)))\n",
    "    if y == 0:\n",
    "        theta = 0\n",
    "    elif y > 0:\n",
    "        theta = -theta\n",
    "    return theta"
   ]
  },
  {
   "cell_type": "code",
   "execution_count": 19,
   "metadata": {},
   "outputs": [
    {
     "data": {
      "text/plain": [
       "24.094842552110702"
      ]
     },
     "execution_count": 19,
     "metadata": {},
     "output_type": "execute_result"
    }
   ],
   "source": [
    "calculate_y_tangent([2,-1,1])"
   ]
  },
  {
   "cell_type": "code",
   "execution_count": 14,
   "metadata": {},
   "outputs": [
    {
     "data": {
      "text/plain": [
       "7.483314773547883"
      ]
     },
     "execution_count": 14,
     "metadata": {},
     "output_type": "execute_result"
    }
   ],
   "source": [
    "(4+16+36)**0.5\n"
   ]
  },
  {
   "cell_type": "code",
   "execution_count": 5,
   "metadata": {},
   "outputs": [
    {
     "data": {
      "text/plain": [
       "116.56505117707799"
      ]
     },
     "execution_count": 5,
     "metadata": {},
     "output_type": "execute_result"
    }
   ],
   "source": [
    "calculate_tangent(2,-1)"
   ]
  },
  {
   "cell_type": "code",
   "execution_count": 6,
   "metadata": {},
   "outputs": [
    {
     "data": {
      "text/plain": [
       "-116.56505117707799"
      ]
     },
     "execution_count": 6,
     "metadata": {},
     "output_type": "execute_result"
    }
   ],
   "source": [
    "calculate_tangent(-2,-1)"
   ]
  },
  {
   "cell_type": "code",
   "execution_count": 10,
   "metadata": {},
   "outputs": [
    {
     "data": {
      "text/plain": [
       "90"
      ]
     },
     "execution_count": 10,
     "metadata": {},
     "output_type": "execute_result"
    }
   ],
   "source": [
    "calculate_tangent(1,0)"
   ]
  },
  {
   "cell_type": "code",
   "execution_count": null,
   "metadata": {},
   "outputs": [],
   "source": []
  }
 ],
 "metadata": {
  "kernelspec": {
   "display_name": "Python 3",
   "language": "python",
   "name": "python3"
  },
  "language_info": {
   "codemirror_mode": {
    "name": "ipython",
    "version": 3
   },
   "file_extension": ".py",
   "mimetype": "text/x-python",
   "name": "python",
   "nbconvert_exporter": "python",
   "pygments_lexer": "ipython3",
   "version": "3.11.4"
  }
 },
 "nbformat": 4,
 "nbformat_minor": 2
}
