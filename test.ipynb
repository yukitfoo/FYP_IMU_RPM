{
 "cells": [
  {
   "cell_type": "code",
   "execution_count": 74,
   "metadata": {},
   "outputs": [],
   "source": [
    "import math\n",
    "\n",
    "# range (-180, 180)\n",
    "def calculate_tangent(opposite, adjacent):\n",
    "    if adjacent == 0:\n",
    "        if opposite == 0:\n",
    "            return 0\n",
    "        if opposite < 0:\n",
    "            return -90\n",
    "        else:\n",
    "            return 90\n",
    "    if opposite == 0:\n",
    "        if adjacent < 0:\n",
    "            return 180\n",
    "        else:\n",
    "            return 0\n",
    "    # at +opposite +adjacent\n",
    "    theta = math.degrees(math.atan(abs(opposite)/abs(adjacent)))\n",
    "    if opposite < 0:\n",
    "        #  at -opposite -adjacent\n",
    "        if adjacent < 0:\n",
    "            theta = -180 + theta\n",
    "        # at -opposite +adjacent\n",
    "        else:\n",
    "            theta = -theta\n",
    "    else:\n",
    "        # +opposite -adjacent\n",
    "        if adjacent < 0:\n",
    "            theta = 180 - theta\n",
    "    return theta\n",
    "\n",
    "def calculate_euclidean_distance(l):\n",
    "    return (sum([i**2 for i in l]))**0.5\n",
    "\n",
    "# range (-180, 180)\n",
    "def calculate_y_tangent(vector):\n",
    "    if vector == [0,0,0]:\n",
    "        return 0\n",
    "    d = calculate_euclidean_distance([vector[0], vector[2]])\n",
    "    y = vector[1]\n",
    "    theta = math.degrees(math.atan(abs(y)/abs(d)))\n",
    "    if y == 0:\n",
    "        theta = 0\n",
    "    elif y > 0:\n",
    "        theta = -theta\n",
    "    return theta\n",
    "\n",
    "\n",
    "def calculate_cross_product(a,b):\n",
    "    if a==0 and b==0:\n",
    "        return 0\n",
    "    c = [0]*3\n",
    "    c[0] = a[1]*b[2] - b[1]*a[2]\n",
    "    c[1] = -(a[0]*b[2] - b[0]*a[2])\n",
    "    c[2] = a[0]*b[1] - b[0]*a[1]\n",
    "    return c\n",
    "\n",
    "# deg will always be within 90 since absolute values are used for opposite and hypothenuse\n",
    "def calculate_cos(n1, n2):\n",
    "    adotb = sum([elt*n2[i] for i, elt in enumerate(n1)])\n",
    "    prod_of_mag = calculate_euclidean_distance(n1)*calculate_euclidean_distance(n2)\n",
    "    if prod_of_mag == 0:\n",
    "        return 0\n",
    "    return math.degrees(math.acos(abs(adotb)/abs(prod_of_mag)))\n",
    "\n",
    "\n",
    "def transform_degrees(a, b, deg):\n",
    "    [aX, aY] = a\n",
    "    [bX, bY] = b\n",
    "    if aX == bX and aY == bY:\n",
    "        return deg\n",
    "    if aX == bX:\n",
    "        # for completely same unit vectors and its absolute equal \n",
    "        if aY == bY-180:\n",
    "            return deg\n",
    "        else:\n",
    "            # chack if Y values are equal, larger or smaller than\n",
    "            if aY > bY:\n",
    "                return deg + 180\n",
    "            # aY==bY case covered above\n",
    "            else:\n",
    "                return 180 - deg\n",
    "    elif aX < bX:\n",
    "        if aY <= bY:\n",
    "            return deg\n",
    "        else:\n",
    "            return -deg\n",
    "    else:\n",
    "        if aY == bY:\n",
    "            return 180\n",
    "        elif aY < bY:\n",
    "            return 180 - deg\n",
    "        else:\n",
    "            return -180 + deg\n",
    "    \n",
    "    "
   ]
  },
  {
   "cell_type": "code",
   "execution_count": null,
   "metadata": {},
   "outputs": [],
   "source": []
  },
  {
   "cell_type": "code",
   "execution_count": 75,
   "metadata": {},
   "outputs": [
    {
     "name": "stdout",
     "output_type": "stream",
     "text": [
      "0 0 35.264389682754654 -135.0\n",
      "0\n",
      "0\n"
     ]
    }
   ],
   "source": [
    "a = [0,0,0]\n",
    "b = [-1, -1, -1]\n",
    "\n",
    "y = [0,1,0]\n",
    "\n",
    "aX, aY = calculate_y_tangent(a), calculate_tangent(a[0],a[2])\n",
    "bX, bY = calculate_y_tangent(b), calculate_tangent(b[0],b[2])\n",
    "\n",
    "AY = calculate_cross_product(a, y)\n",
    "AB = calculate_cross_product(a, b)\n",
    "\n",
    "\n",
    "print(aX, aY, bX, bY)\n",
    "deg = calculate_cos(AY, AB)\n",
    "print(deg)\n",
    "deg = transform_degrees([aX, aY],[bX, bY], deg)\n",
    "print(deg)"
   ]
  },
  {
   "cell_type": "code",
   "execution_count": 29,
   "metadata": {},
   "outputs": [],
   "source": [
    "a=90-X"
   ]
  },
  {
   "cell_type": "code",
   "execution_count": 30,
   "metadata": {},
   "outputs": [
    {
     "data": {
      "text/plain": [
       "115.39941056266724"
      ]
     },
     "execution_count": 30,
     "metadata": {},
     "output_type": "execute_result"
    }
   ],
   "source": [
    "-24.09+a\n"
   ]
  },
  {
   "cell_type": "code",
   "execution_count": 23,
   "metadata": {},
   "outputs": [
    {
     "data": {
      "text/plain": [
       "116.56505117707799"
      ]
     },
     "execution_count": 23,
     "metadata": {},
     "output_type": "execute_result"
    }
   ],
   "source": [
    "calculate_tangent(2,-1)"
   ]
  },
  {
   "cell_type": "code",
   "execution_count": 6,
   "metadata": {},
   "outputs": [
    {
     "data": {
      "text/plain": [
       "-116.56505117707799"
      ]
     },
     "execution_count": 6,
     "metadata": {},
     "output_type": "execute_result"
    }
   ],
   "source": [
    "calculate_tangent(-2,-1)"
   ]
  },
  {
   "cell_type": "code",
   "execution_count": 10,
   "metadata": {},
   "outputs": [
    {
     "data": {
      "text/plain": [
       "90"
      ]
     },
     "execution_count": 10,
     "metadata": {},
     "output_type": "execute_result"
    }
   ],
   "source": [
    "calculate_tangent(1,0)"
   ]
  },
  {
   "cell_type": "code",
   "execution_count": 72,
   "metadata": {},
   "outputs": [
    {
     "name": "stdout",
     "output_type": "stream",
     "text": [
      "12,124,3452;123,123,1231;1231,123,123;99\n",
      "12,124,3452;123,123,1231;1231,123,123;99\n",
      "12,124,3452;123,123,1231;1231,123,123;99\n",
      "12,124,3452;123,123,1231;1231,123,123;99\n",
      "12,124,3452;123,123,1231;1231,123,123;99\n",
      "12,124,3452;123,123,1231;1231,123,123;99\n",
      "12,124,3452;123,123,1231;1231,123,123;99\n",
      "12,124,3452;123,123,1231;1231,123,123;99\n",
      "12,124,3452;123,123,1231;1231,123,123;99\n",
      "12,124,3452;123,123,1231;1231,123,123;99\n",
      "12,124,3452;123,123,1231;1231,123,123;99\n",
      "12,124,3452;123,123,1231;1231,123,123;99\n",
      "12,124,3452;123,123,1231;1231,123,123;99\n",
      "12,124,3452;123,123,1231;1231,123,123;99\n",
      "12,124,3452;123,123,1231;1231,123,123;99\n",
      "12,124,3452;123,123,1231;1231,123,123;99\n",
      "12,124,3452;123,123,1231;1231,123,123;99\n",
      "12,124,3452;123,123,1231;1231,123,123;99\n",
      "12,124,3452;123,123,1231;1231,123,123;99\n",
      "12,124,3452;123,123,1231;1231,123,123;99\n",
      "12,124,3452;123,123,1231;1231,123,123;99\n",
      "12,124,3452;123,123,1231;1231,123,123;99\n",
      "12,124,3452;123,123,1231;1231,123,123;99\n",
      "12,124,3452;123,123,1231;1231,123,123;99\n",
      "12,124,3452;123,123,1231;1231,123,123;99\n",
      "12,124,3452;123,123,1231;1231,123,123;99\n",
      "12,124,3452;123,123,1231;1231,123,123;99\n",
      "12,124,3452;123,123,1231;1231,123,123;99\n",
      "12,124,3452;123,123,1231;1231,123,123;99\n",
      "12,124,3452;123,123,1231;1231,123,123;99\n",
      "12,124,3452;123,123,1231;1231,123,123;99\n",
      "12,124,3452;123,123,1231;1231,123,123;99\n",
      "12,124,3452;123,123,1231;1231,123,123;99\n",
      "12,124,3452;123,123,1231;1231,123,123;99\n",
      "12,124,3452;123,123,1231;1231,123,123;99\n",
      "12,124,3452;123,123,1231;1231,123,123;99\n",
      "12,124,3452;123,123,1231;1231,123,123;99\n",
      "12,124,3452;123,123,1231;1231,123,123;99\n",
      "12,124,3452;123,123,1231;1231,123,123;99\n",
      "12,124,3452;123,123,1231;1231,123,123;99\n",
      "12,124,3452;123,123,1231;1231,123,123;99\n",
      "12,124,3452;123,123,1231;1231,123,123;99\n",
      "12,124,3452;123,123,1231;1231,123,123;99\n",
      "12,124,3452;123,123,1231;1231,123,123;99\n",
      "12,124,3452;123,123,1231;1231,123,123;99\n",
      "12,124,3452;123,123,1231;1231,123,123;99\n",
      "12,124,3452;123,123,1231;1231,123,123;99\n",
      "12,124,3452;123,123,1231;1231,123,123;99\n",
      "12,124,3452;123,123,1231;1231,123,123;99\n",
      "12,124,3452;123,123,1231;1231,123,123;99\n",
      "12,124,3452;123,123,1231;1231,123,123;99\n",
      "12,124,3452;123,123,1231;1231,123,123;99\n",
      "12,124,3452;123,123,1231;1231,123,123;99\n",
      "12,124,3452;123,123,1231;1231,123,123;99\n",
      "12,124,3452;123,123,1231;1231,123,123;99\n",
      "12,124,3452;123,123,1231;1231,123,123;99\n",
      "12,124,3452;123,123,1231;1231,123,123;99\n",
      "12,124,3452;123,123,1231;1231,123,123;99\n",
      "12,124,3452;123,123,1231;1231,123,123;99\n",
      "12,124,3452;123,123,1231;1231,123,123;99\n",
      "12,124,3452;123,123,1231;1231,123,123;99\n",
      "12,124,3452;123,123,1231;1231,123,123;99\n",
      "12,124,3452;123,123,1231;1231,123,123;99\n",
      "12,124,3452;123,123,1231;1231,123,123;99\n",
      "12,124,3452;123,123,1231;1231,123,123;99\n",
      "12,124,3452;123,123,1231;1231,123,123;99\n",
      "12,124,3452;123,123,1231;1231,123,123;99\n",
      "12,124,3452;123,123,1231;1231,123,123;99\n",
      "12,124,3452;123,123,1231;1231,123,123;99\n",
      "12,124,3452;123,123,1231;1231,123,123;99\n",
      "12,124,3452;123,123,1231;1231,123,123;99\n",
      "12,124,3452;123,123,1231;1231,123,123;99\n",
      "12,124,3452;123,123,1231;1231,123,123;99\n",
      "12,124,3452;123,123,1231;1231,123,123;99\n",
      "12,124,3452;123,123,1231;1231,123,123;99\n",
      "12,124,3452;123,123,1231;1231,123,123;99\n",
      "12,124,3452;123,123,1231;1231,123,123;99\n",
      "12,124,3452;123,123,1231;1231,123,123;99\n",
      "12,124,3452;123,123,1231;1231,123,123;99\n",
      "12,124,3452;123,123,1231;1231,123,123;99\n",
      "12,124,3452;123,123,1231;1231,123,123;99\n",
      "12,124,3452;123,123,1231;1231,123,123;99\n",
      "12,124,3452;123,123,1231;1231,123,123;99\n",
      "12,124,3452;123,123,1231;1231,123,123;99\n",
      "12,124,3452;123,123,1231;1231,123,123;99\n",
      "12,124,3452;123,123,1231;1231,123,123;99\n",
      "12,124,3452;123,123,1231;1231,123,123;99\n",
      "12,124,3452;123,123,1231;1231,123,123;99\n",
      "12,124,3452;123,123,1231;1231,123,123;99\n",
      "12,124,3452;123,123,1231;1231,123,123;99\n",
      "12,124,3452;123,123,1231;1231,123,123;99\n",
      "12,124,3452;123,123,1231;1231,123,123;99\n",
      "12,124,3452;123,123,1231;1231,123,123;99\n",
      "12,124,3452;123,123,1231;1231,123,123;99\n",
      "12,124,3452;123,123,1231;1231,123,123;99\n",
      "12,124,3452;123,123,1231;1231,123,123;99\n",
      "12,124,3452;123,123,1231;1231,123,123;99\n",
      "12,124,3452;123,123,1231;1231,123,123;99\n",
      "12,124,3452;123,123,1231;1231,123,123;99\n",
      "12,124,3452;123,123,1231;1231,123,123;99\n",
      "sock closed\n"
     ]
    }
   ],
   "source": [
    "import socket\n",
    "import time\n",
    "\n",
    "host, port = \"127.0.0.1\", 25010\n",
    "sock = socket.socket(socket.AF_INET, socket.SOCK_STREAM)\n",
    "sock.connect((host, port))\n",
    "i = 0\n",
    "while i<100:\n",
    "    data = \"12,124,3452;123,123,1231;1231,123,123;1231,123,123;99\"\n",
    "    sock.sendall(data.encode(\"utf-8\"))\n",
    "    i+=1\n",
    "    response = sock.recv(1024).decode(\"utf-8\")\n",
    "    print(response)\n",
    "    time.sleep(0.01)\n",
    "sock.close()\n",
    "print(\"sock closed\")"
   ]
  },
  {
   "cell_type": "markdown",
   "metadata": {},
   "source": []
  },
  {
   "cell_type": "code",
   "execution_count": null,
   "metadata": {},
   "outputs": [],
   "source": []
  }
 ],
 "metadata": {
  "kernelspec": {
   "display_name": "Python 3",
   "language": "python",
   "name": "python3"
  },
  "language_info": {
   "codemirror_mode": {
    "name": "ipython",
    "version": 3
   },
   "file_extension": ".py",
   "mimetype": "text/x-python",
   "name": "python",
   "nbconvert_exporter": "python",
   "pygments_lexer": "ipython3",
   "version": "3.11.4"
  }
 },
 "nbformat": 4,
 "nbformat_minor": 2
}
